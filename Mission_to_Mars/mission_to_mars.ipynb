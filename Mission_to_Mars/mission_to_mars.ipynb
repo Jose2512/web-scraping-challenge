{
 "cells": [
  {
   "cell_type": "code",
   "execution_count": 2,
   "metadata": {},
   "outputs": [],
   "source": [
    "from bs4 import BeautifulSoup as bs\n",
    "import requests\n",
    "from splinter import Browser\n",
    "import time\n",
    "import pandas as pd\n"
   ]
  },
  {
   "cell_type": "markdown",
   "metadata": {},
   "source": [
    "## Creating Executable path for Chromedriver"
   ]
  },
  {
   "cell_type": "code",
   "execution_count": 22,
   "metadata": {},
   "outputs": [],
   "source": [
    "executable_path = {\"executable_path\":\"chromedriver.exe\"}\n",
    "browser = Browser('chrome', **executable_path, headless=False)"
   ]
  },
  {
   "cell_type": "markdown",
   "metadata": {},
   "source": [
    "## NASA Mars News"
   ]
  },
  {
   "cell_type": "code",
   "execution_count": 23,
   "metadata": {},
   "outputs": [],
   "source": [
    "url = 'https://mars.nasa.gov/news/?page=0&per_page=40&order=publish_date+desc%2Ccreated_at+desc&search=&category=19%2C165%2C184%2C204&blank_scope=Latest'"
   ]
  },
  {
   "cell_type": "code",
   "execution_count": 24,
   "metadata": {},
   "outputs": [],
   "source": [
    "browser.visit(url)\n",
    "time.sleep(2)"
   ]
  },
  {
   "cell_type": "code",
   "execution_count": 25,
   "metadata": {},
   "outputs": [],
   "source": [
    "response = browser.html"
   ]
  },
  {
   "cell_type": "code",
   "execution_count": 26,
   "metadata": {},
   "outputs": [],
   "source": [
    "# Create a Beautiful Soup object\n",
    "soup = bs(response, 'html.parser')"
   ]
  },
  {
   "cell_type": "code",
   "execution_count": 27,
   "metadata": {},
   "outputs": [],
   "source": [
    "results = soup.find_all('li', class_=\"slide\")"
   ]
  },
  {
   "cell_type": "code",
   "execution_count": 28,
   "metadata": {},
   "outputs": [
    {
     "output_type": "stream",
     "name": "stdout",
     "text": "{'title': \"Air Deliveries Bring NASA's Perseverance Mars Rover Closer to Launch\", 'content': \"A NASA Wallops Flight Facility cargo plane transported more than two tons of equipment — including the rover's sample collection tubes — to Florida for this summer's liftoff.\"}\n{'title': \"NASA Wins 4 Webbys, 4 People's Voice Awards\", 'content': 'Winners include the JPL-managed \"Send Your Name to Mars\" campaign, NASA\\'s Global Climate Change website and Solar System Interactive.'}\n{'title': \"NASA's Perseverance Rover Goes Through Trials by Fire, Ice, Light and Sound\", 'content': \"The agency's new Mars rover is put through a series of tests in vacuum chambers, acoustic chambers and more to get ready for the Red Planet.\"}\n{'title': \"NASA's Perseverance Rover Mission Getting in Shape for Launch\", 'content': 'Stacking spacecraft components on top of each other is one of the final assembly steps before a mission launches to the Red Planet. '}\n{'title': 'NASA Perseverance Mars Rover Scientists Train in the Nevada Desert', 'content': \"Team members searched for signs of ancient microscopic life there, just as NASA's latest rover will on the Red Planet next year.\"}\n{'title': \"NASA's Perseverance Rover Will Look at Mars Through These 'Eyes'\", 'content': 'A pair of zoomable cameras will help scientists and rover drivers with high-resolution color images.'}\n{'title': \"Meet the People Behind NASA's Perseverance Rover\", 'content': \"These are the scientists and engineers who built NASA's next Mars rover and who will guide it to a safe landing in Jezero Crater. \"}\n{'title': \"Q&A with the Student Who Named Ingenuity, NASA's Mars Helicopter\", 'content': 'As a longtime fan of space exploration, Vaneeza Rupani appreciates the creativity and collaboration involved with trying to fly on another planet.'}\n{'title': \"Alabama High School Student Names NASA's Mars Helicopter\", 'content': \"Vaneeza Rupani's essay was chosen as the name for the small spacecraft, which will mark NASA's first attempt at powered flight on another planet.\"}\n{'title': \"How NASA's Perseverance Mars Team Adjusted to Work in the Time of Coronavirus \", 'content': 'Like much of the rest of the world, the Mars rover team is pushing forward with its mission-critical work while putting the health and safety of their colleagues and community first.'}\n{'title': \"NASA's Perseverance Mars Rover Gets Balanced\", 'content': \"The mission team performed a crucial weight-balancing test on the rover in preparation for this summer's history-making launch to the Red Planet.\"}\n{'title': \"NASA's Curiosity Keeps Rolling As Team Operates Rover From Home\", 'content': 'The team has learned to meet new challenges as they work remotely on the Mars mission.'}\n{'title': \"Mars Helicopter Attached to NASA's Perseverance Rover\", 'content': \"The team also fueled the rover's sky crane to get ready for this summer's history-making launch.\"}\n{'title': \"NASA's Perseverance Mars Rover Gets Its Wheels and Air Brakes\", 'content': 'After the rover was shipped from JPL to Kennedy Space Center, the team is getting closer to finalizing the spacecraft for launch later this summer.'}\n{'title': 'The Man Who Wanted to Fly on Mars', 'content': \"The Mars Helicopter is riding to the Red Planet this summer with NASA's Perseverance rover. The helicopter's chief engineer, Bob Balaram, shares the saga of how it came into being.\"}\n{'title': \"10.9 Million Names Now Aboard NASA's Perseverance Mars Rover\", 'content': \"As part of NASA's 'Send Your Name to Mars' campaign, they've been stenciled onto three microchips along with essays from NASA's 'Name the Rover' contest. Next stop: Mars.\"}\n{'title': \"NASA's Curiosity Mars Rover Takes a New Selfie Before Record Climb\", 'content': 'Along with capturing an image before its steepest ascent ever, the robotic explorer filmed its \"selfie stick,\" or robotic arm, in action.'}\n{'title': \"NASA's Mars Perseverance Rover Gets Its Sample Handling System\", 'content': 'The system will be collecting and storing Martian rock and soil. Its installation marks another milestone in the march toward the July launch period.'}\n{'title': \"Virginia Middle School Student Earns Honor of Naming NASA's Next Mars Rover\", 'content': 'NASA chose a seventh-grader from Virginia as winner of the agency\\'s \"Name the Rover\" essay contest. Alexander Mather\\'s entry for \"Perseverance\" was voted tops among 28,000 entries. '}\n{'title': \"NASA's Curiosity Mars Rover Snaps Its Highest-Resolution Panorama Yet\", 'content': 'To go along with the stunning 1.8-billion-pixel image, a new video offers a sweeping view of the Red Planet.'}\n{'title': 'NASA to Reveal Name of Its Next Mars Rover', 'content': \"After a months-long contest among students to name NASA's newest Mars rover, the agency will reveal the winning name — and the winning student — this Thursday. \"}\n{'title': 'The MarCO Mission Comes to an End', 'content': 'The pair of briefcase-sized satellites made history when they sailed past Mars in 2019.'}\n{'title': \"A Year of Surprising Science From NASA's InSight Mars Mission\", 'content': \"A batch of new papers summarizes the lander's findings above and below the surface of the Red Planet.\"}\n{'title': \"Mars InSight Lander to Push on Top of the 'Mole'\", 'content': 'Engineers have a plan for pushing down on the heat probe, which has been stuck at the Martian surface for a year.'}\n{'title': \"Common Questions about InSight's 'Mole'\", 'content': 'The following Q&As with members of the team answer some of the most common questions about the burrowing device, part of a science instrument called the Heat Flow and Physical Properties Package (HP3).'}\n{'title': 'NASA Adds Return Sample Scientists to Mars 2020 Leadership Team', 'content': 'The leadership council for Mars 2020 science added two new members who represent the interests of scientists destined to handle and study the first samples from Red Planet.'}\n{'title': \"NASA's Mars Reconnaissance Orbiter Undergoes Memory Update\", 'content': 'Other orbiters will continue relaying data from Mars surface missions for a two-week period.'}\n{'title': \"NASA's Mars 2020 Rover Goes Coast-to-Coast to Prep for Launch\", 'content': \"The agency's first step in returning rocks from Mars just arrived at Kennedy Space Center. The Mars 2020 team now begins readying for a launch to the Red Planet this July.\"}\n{'title': 'NASA Prepares for Moon and Mars With New Addition to Its Deep Space Network', 'content': 'Robotic spacecraft will be able to communicate with the dish using radio waves and lasers.'}\n{'title': 'NASA Administrator Statement on Moon to Mars Initiative, FY 2021 Budget', 'content': \"Jim Bridenstine addresses NASA's ambitious plans for the coming years, including Mars Sample Return.\"}\n{'title': \"All About the Laser (and Microphone) Atop Mars 2020, NASA's Next Rover\", 'content': 'SuperCam is a rock-vaporizing instrument that will help scientists hunt for Mars fossils.'}\n{'title': \"NASA's MAVEN Explores Mars to Understand Radio Interference at Earth\", 'content': 'NASA’s MAVEN spacecraft has discovered “layers” and “rifts” in the electrically charged part of the upper atmosphere of Mars.'}\n{'title': \"Nine Finalists Chosen in NASA's Mars 2020 Rover Naming Contest\", 'content': \"Nine finalists have been chosen in the essay contest for K-12 students across U.S. to name NASA's next Mars rover. Now you can help by voting for your favorite. \"}\n{'title': \"NASA's Mars 2020 Rover Closer to Getting Its Name\", 'content': \"155 students from across the U.S. have been chosen as semifinalists in NASA's essay contest to name the Mars 2020 rover, and see it launch from Cape Canaveral this July.\"}\n{'title': \"Media Get a Close-Up of NASA's Mars 2020 Rover\", 'content': \"The clean room at NASA's Jet Propulsion Laboratory was open to the media to see NASA's next Mars explorer before it leaves for Florida in preparation for a summertime launch.\"}\n{'title': 'Space History Is Made in This NASA Robot Factory', 'content': \"From rockets to rovers, JPL's Spacecraft Assembly Facility has been at the center of robotic spaceflight. Here's a closer look at what makes it so special.\"}\n{'title': \"NASA's Mars 2020 Rover Completes Its First Drive\", 'content': 'In a 10-plus-hour marathon, the rover steered, turned and drove in 3-foot (1-meter) increments over small ramps.'}\n{'title': \"NASA's MAVEN Maps Winds in the Martian Upper Atmosphere that Mirror the Terrain Below and Gives Clues to Martian Climate\", 'content': 'Researchers have created the first map of wind circulation in the upper atmosphere of a planet besides Earth, using data from NASA’s MAVEN spacecraft that were collected during the last two years.'}\n{'title': \"Newfound Martian Aurora Actually the Most Common; Sheds Light on Mars' Changing Climate\", 'content': 'A type of Martian aurora first identified by NASA’s MAVEN spacecraft in 2016 is actually the most common form of aurora occurring on the Red Planet, according to new results from the mission.'}\n{'title': \"NASA's Treasure Map for Water Ice on Mars\", 'content': 'A new study identifies frozen water just below the Martian surface, where astronauts could easily dig it up.'}\n"
    }
   ],
   "source": [
    "headers = []\n",
    "for result in results:\n",
    "    try:\n",
    "        title = result.find('div', class_=\"content_title\").text\n",
    "        content =  result.find('div', class_=\"article_teaser_body\").text\n",
    "        head_dict={}\n",
    "        head_dict[\"title\"] = title\n",
    "        head_dict[\"content\"] = content\n",
    "        headers.append(head_dict)\n",
    "        print(head_dict)\n",
    "    except AttributeError as e:\n",
    "        print(e)"
   ]
  },
  {
   "cell_type": "markdown",
   "metadata": {},
   "source": [
    "## JPL Mars Space Images - Featured Image"
   ]
  },
  {
   "cell_type": "code",
   "execution_count": 29,
   "metadata": {},
   "outputs": [],
   "source": [
    "\n",
    "url2 = 'https://www.jpl.nasa.gov/spaceimages/?search=&category=Mars'\n",
    "browser.visit(url2) \n",
    "browser.click_link_by_partial_text('FULL IMAGE')\n",
    "time.sleep(2)"
   ]
  },
  {
   "cell_type": "code",
   "execution_count": 30,
   "metadata": {},
   "outputs": [],
   "source": [
    "browser.click_link_by_partial_text('more info')\n",
    "time.sleep(2)\n",
    "response_jpl = browser.html\n",
    "soup = bs(response_jpl, 'html.parser')"
   ]
  },
  {
   "cell_type": "code",
   "execution_count": 31,
   "metadata": {},
   "outputs": [
    {
     "output_type": "execute_result",
     "data": {
      "text/plain": "'https://www.jpl.nasa.gov/spaceimages/images/largesize/PIA10181_hires.jpg'"
     },
     "metadata": {},
     "execution_count": 31
    }
   ],
   "source": [
    "featured_image = soup.find('img', class_=\"main_image\")['src']\n",
    "featured_image_url = f'https://www.jpl.nasa.gov{featured_image}'\n",
    "featured_image_url \n"
   ]
  },
  {
   "cell_type": "markdown",
   "metadata": {},
   "source": [
    "## Mars Weather"
   ]
  },
  {
   "cell_type": "code",
   "execution_count": 32,
   "metadata": {},
   "outputs": [],
   "source": [
    "url3 = \"https://twitter.com/marswxreport?lang=en\"\n",
    "browser.visit(url3)\n",
    "time.sleep(5)\n",
    "response_twr = browser.html\n",
    "soup = bs(response_twr, 'html.parser')"
   ]
  },
  {
   "cell_type": "code",
   "execution_count": 33,
   "metadata": {},
   "outputs": [
    {
     "output_type": "execute_result",
     "data": {
      "text/plain": "'InSight sol 527 (2020-05-20) low -93.0ºC (-135.5ºF) high 0.8ºC (33.4ºF)\\nwinds from the SW at 4.7 m/s (10.4 mph) gusting to 18.9 m/s (42.2 mph)\\npressure at 7.10 hPa'"
     },
     "metadata": {},
     "execution_count": 33
    }
   ],
   "source": [
    "tweet = soup.find(\"div\", {\"data-testid\": \"tweet\"})\n",
    "timeline =tweet.find_all(\"span\")\n",
    "mars_weather = timeline[4].text\n",
    "mars_weather"
   ]
  },
  {
   "cell_type": "markdown",
   "metadata": {},
   "source": [
    "## Mars Facts"
   ]
  },
  {
   "cell_type": "code",
   "execution_count": 3,
   "metadata": {},
   "outputs": [],
   "source": [
    "url4= \"https://space-facts.com/mars/\"\n",
    "tables = pd.read_html(url4)\n",
    "mars_data = tables[0]"
   ]
  },
  {
   "cell_type": "code",
   "execution_count": 11,
   "metadata": {},
   "outputs": [],
   "source": [
    "mars_data.columns=['Data', 'Value']\n",
    "mars_table = mars_data.to_html(index=False)"
   ]
  },
  {
   "cell_type": "code",
   "execution_count": 12,
   "metadata": {},
   "outputs": [
    {
     "output_type": "stream",
     "name": "stdout",
     "text": "<table border=\"1\" class=\"dataframe\">\n  <thead>\n    <tr style=\"text-align: right;\">\n      <th></th>\n      <th>Data</th>\n      <th>Value</th>\n    </tr>\n  </thead>\n  <tbody>\n    <tr>\n      <th>0</th>\n      <td>Equatorial Diameter:</td>\n      <td>6,792 km</td>\n    </tr>\n    <tr>\n      <th>1</th>\n      <td>Polar Diameter:</td>\n      <td>6,752 km</td>\n    </tr>\n    <tr>\n      <th>2</th>\n      <td>Mass:</td>\n      <td>6.39 × 10^23 kg (0.11 Earths)</td>\n    </tr>\n    <tr>\n      <th>3</th>\n      <td>Moons:</td>\n      <td>2 (Phobos &amp; Deimos)</td>\n    </tr>\n    <tr>\n      <th>4</th>\n      <td>Orbit Distance:</td>\n      <td>227,943,824 km (1.38 AU)</td>\n    </tr>\n    <tr>\n      <th>5</th>\n      <td>Orbit Period:</td>\n      <td>687 days (1.9 years)</td>\n    </tr>\n    <tr>\n      <th>6</th>\n      <td>Surface Temperature:</td>\n      <td>-87 to -5 °C</td>\n    </tr>\n    <tr>\n      <th>7</th>\n      <td>First Record:</td>\n      <td>2nd millennium BC</td>\n    </tr>\n    <tr>\n      <th>8</th>\n      <td>Recorded By:</td>\n      <td>Egyptian astronomers</td>\n    </tr>\n  </tbody>\n</table>\n"
    }
   ],
   "source": [
    "print(mars_html)\n"
   ]
  },
  {
   "cell_type": "markdown",
   "metadata": {},
   "source": [
    "## Mars Hemispheres"
   ]
  },
  {
   "cell_type": "code",
   "execution_count": 36,
   "metadata": {},
   "outputs": [],
   "source": [
    "url5 = 'https://astrogeology.usgs.gov/search/results?q=hemisphere+enhanced&k1=target&v1=Mars'\n",
    "browser.visit(url5)"
   ]
  },
  {
   "cell_type": "code",
   "execution_count": 37,
   "metadata": {},
   "outputs": [],
   "source": [
    "hemisphere_image_urls = []\n",
    "hemispheres = ['Cerberus Hemisphere', 'Schiaparelli Hemisphere', 'Syrtis Major Hemisphere', 'Valles Marineris Hemisphere']"
   ]
  },
  {
   "cell_type": "code",
   "execution_count": 38,
   "metadata": {},
   "outputs": [],
   "source": [
    "for hemisphere in hemispheres:\n",
    "    browser.click_link_by_partial_text(hemisphere)\n",
    "    time.sleep(1)\n",
    "    response = browser.html\n",
    "    soup = bs(response, 'html.parser')\n",
    "    type(soup)\n",
    "    link = soup.find(\"div\", class_=\"downloads\")\n",
    "    list_link = link.find_all(\"a\")\n",
    "    image = list_link[0]['href']\n",
    "    hemisphere_dict={}\n",
    "    hemisphere_dict[\"title\"] = hemisphere\n",
    "    hemisphere_dict[\"img_url\"] = image\n",
    "    hemisphere_image_urls.append(hemisphere_dict)\n",
    "    browser.visit(url5)"
   ]
  },
  {
   "cell_type": "code",
   "execution_count": 39,
   "metadata": {},
   "outputs": [
    {
     "output_type": "execute_result",
     "data": {
      "text/plain": "[{'title': 'Cerberus Hemisphere',\n  'img_url': 'https://astropedia.astrogeology.usgs.gov/download/Mars/Viking/cerberus_enhanced.tif'},\n {'title': 'Schiaparelli Hemisphere',\n  'img_url': 'https://astropedia.astrogeology.usgs.gov/download/Mars/Viking/schiaparelli_enhanced.tif'},\n {'title': 'Syrtis Major Hemisphere',\n  'img_url': 'https://astropedia.astrogeology.usgs.gov/download/Mars/Viking/syrtis_major_enhanced.tif'},\n {'title': 'Valles Marineris Hemisphere',\n  'img_url': 'https://astropedia.astrogeology.usgs.gov/download/Mars/Viking/valles_marineris_enhanced.tif'}]"
     },
     "metadata": {},
     "execution_count": 39
    }
   ],
   "source": [
    "hemisphere_image_urls"
   ]
  },
  {
   "cell_type": "code",
   "execution_count": 41,
   "metadata": {},
   "outputs": [],
   "source": [
    "    all_mars_data = {\n",
    "    \"news_title\" : headers[0][\"title\"],\n",
    "    \"news_content\": headers[0][\"content\"],\n",
    "    \"feat_img\": featured_image_url,\n",
    "    \"weather\": mars_weather,\n",
    "    \"hem_imgs\":hemisphere_image_urls,\n",
    "    \"data\": mars_table\n",
    "    }"
   ]
  },
  {
   "cell_type": "code",
   "execution_count": 42,
   "metadata": {},
   "outputs": [
    {
     "output_type": "execute_result",
     "data": {
      "text/plain": "{'news': [{'title': \"Air Deliveries Bring NASA's Perseverance Mars Rover Closer to Launch\",\n   'content': \"A NASA Wallops Flight Facility cargo plane transported more than two tons of equipment — including the rover's sample collection tubes — to Florida for this summer's liftoff.\"},\n  {'title': \"NASA Wins 4 Webbys, 4 People's Voice Awards\",\n   'content': 'Winners include the JPL-managed \"Send Your Name to Mars\" campaign, NASA\\'s Global Climate Change website and Solar System Interactive.'},\n  {'title': \"NASA's Perseverance Rover Goes Through Trials by Fire, Ice, Light and Sound\",\n   'content': \"The agency's new Mars rover is put through a series of tests in vacuum chambers, acoustic chambers and more to get ready for the Red Planet.\"},\n  {'title': \"NASA's Perseverance Rover Mission Getting in Shape for Launch\",\n   'content': 'Stacking spacecraft components on top of each other is one of the final assembly steps before a mission launches to the Red Planet. '},\n  {'title': 'NASA Perseverance Mars Rover Scientists Train in the Nevada Desert',\n   'content': \"Team members searched for signs of ancient microscopic life there, just as NASA's latest rover will on the Red Planet next year.\"},\n  {'title': \"NASA's Perseverance Rover Will Look at Mars Through These 'Eyes'\",\n   'content': 'A pair of zoomable cameras will help scientists and rover drivers with high-resolution color images.'},\n  {'title': \"Meet the People Behind NASA's Perseverance Rover\",\n   'content': \"These are the scientists and engineers who built NASA's next Mars rover and who will guide it to a safe landing in Jezero Crater. \"},\n  {'title': \"Q&A with the Student Who Named Ingenuity, NASA's Mars Helicopter\",\n   'content': 'As a longtime fan of space exploration, Vaneeza Rupani appreciates the creativity and collaboration involved with trying to fly on another planet.'},\n  {'title': \"Alabama High School Student Names NASA's Mars Helicopter\",\n   'content': \"Vaneeza Rupani's essay was chosen as the name for the small spacecraft, which will mark NASA's first attempt at powered flight on another planet.\"},\n  {'title': \"How NASA's Perseverance Mars Team Adjusted to Work in the Time of Coronavirus \",\n   'content': 'Like much of the rest of the world, the Mars rover team is pushing forward with its mission-critical work while putting the health and safety of their colleagues and community first.'},\n  {'title': \"NASA's Perseverance Mars Rover Gets Balanced\",\n   'content': \"The mission team performed a crucial weight-balancing test on the rover in preparation for this summer's history-making launch to the Red Planet.\"},\n  {'title': \"NASA's Curiosity Keeps Rolling As Team Operates Rover From Home\",\n   'content': 'The team has learned to meet new challenges as they work remotely on the Mars mission.'},\n  {'title': \"Mars Helicopter Attached to NASA's Perseverance Rover\",\n   'content': \"The team also fueled the rover's sky crane to get ready for this summer's history-making launch.\"},\n  {'title': \"NASA's Perseverance Mars Rover Gets Its Wheels and Air Brakes\",\n   'content': 'After the rover was shipped from JPL to Kennedy Space Center, the team is getting closer to finalizing the spacecraft for launch later this summer.'},\n  {'title': 'The Man Who Wanted to Fly on Mars',\n   'content': \"The Mars Helicopter is riding to the Red Planet this summer with NASA's Perseverance rover. The helicopter's chief engineer, Bob Balaram, shares the saga of how it came into being.\"},\n  {'title': \"10.9 Million Names Now Aboard NASA's Perseverance Mars Rover\",\n   'content': \"As part of NASA's 'Send Your Name to Mars' campaign, they've been stenciled onto three microchips along with essays from NASA's 'Name the Rover' contest. Next stop: Mars.\"},\n  {'title': \"NASA's Curiosity Mars Rover Takes a New Selfie Before Record Climb\",\n   'content': 'Along with capturing an image before its steepest ascent ever, the robotic explorer filmed its \"selfie stick,\" or robotic arm, in action.'},\n  {'title': \"NASA's Mars Perseverance Rover Gets Its Sample Handling System\",\n   'content': 'The system will be collecting and storing Martian rock and soil. Its installation marks another milestone in the march toward the July launch period.'},\n  {'title': \"Virginia Middle School Student Earns Honor of Naming NASA's Next Mars Rover\",\n   'content': 'NASA chose a seventh-grader from Virginia as winner of the agency\\'s \"Name the Rover\" essay contest. Alexander Mather\\'s entry for \"Perseverance\" was voted tops among 28,000 entries. '},\n  {'title': \"NASA's Curiosity Mars Rover Snaps Its Highest-Resolution Panorama Yet\",\n   'content': 'To go along with the stunning 1.8-billion-pixel image, a new video offers a sweeping view of the Red Planet.'},\n  {'title': 'NASA to Reveal Name of Its Next Mars Rover',\n   'content': \"After a months-long contest among students to name NASA's newest Mars rover, the agency will reveal the winning name — and the winning student — this Thursday. \"},\n  {'title': 'The MarCO Mission Comes to an End',\n   'content': 'The pair of briefcase-sized satellites made history when they sailed past Mars in 2019.'},\n  {'title': \"A Year of Surprising Science From NASA's InSight Mars Mission\",\n   'content': \"A batch of new papers summarizes the lander's findings above and below the surface of the Red Planet.\"},\n  {'title': \"Mars InSight Lander to Push on Top of the 'Mole'\",\n   'content': 'Engineers have a plan for pushing down on the heat probe, which has been stuck at the Martian surface for a year.'},\n  {'title': \"Common Questions about InSight's 'Mole'\",\n   'content': 'The following Q&As with members of the team answer some of the most common questions about the burrowing device, part of a science instrument called the Heat Flow and Physical Properties Package (HP3).'},\n  {'title': 'NASA Adds Return Sample Scientists to Mars 2020 Leadership Team',\n   'content': 'The leadership council for Mars 2020 science added two new members who represent the interests of scientists destined to handle and study the first samples from Red Planet.'},\n  {'title': \"NASA's Mars Reconnaissance Orbiter Undergoes Memory Update\",\n   'content': 'Other orbiters will continue relaying data from Mars surface missions for a two-week period.'},\n  {'title': \"NASA's Mars 2020 Rover Goes Coast-to-Coast to Prep for Launch\",\n   'content': \"The agency's first step in returning rocks from Mars just arrived at Kennedy Space Center. The Mars 2020 team now begins readying for a launch to the Red Planet this July.\"},\n  {'title': 'NASA Prepares for Moon and Mars With New Addition to Its Deep Space Network',\n   'content': 'Robotic spacecraft will be able to communicate with the dish using radio waves and lasers.'},\n  {'title': 'NASA Administrator Statement on Moon to Mars Initiative, FY 2021 Budget',\n   'content': \"Jim Bridenstine addresses NASA's ambitious plans for the coming years, including Mars Sample Return.\"},\n  {'title': \"All About the Laser (and Microphone) Atop Mars 2020, NASA's Next Rover\",\n   'content': 'SuperCam is a rock-vaporizing instrument that will help scientists hunt for Mars fossils.'},\n  {'title': \"NASA's MAVEN Explores Mars to Understand Radio Interference at Earth\",\n   'content': 'NASA’s MAVEN spacecraft has discovered “layers” and “rifts” in the electrically charged part of the upper atmosphere of Mars.'},\n  {'title': \"Nine Finalists Chosen in NASA's Mars 2020 Rover Naming Contest\",\n   'content': \"Nine finalists have been chosen in the essay contest for K-12 students across U.S. to name NASA's next Mars rover. Now you can help by voting for your favorite. \"},\n  {'title': \"NASA's Mars 2020 Rover Closer to Getting Its Name\",\n   'content': \"155 students from across the U.S. have been chosen as semifinalists in NASA's essay contest to name the Mars 2020 rover, and see it launch from Cape Canaveral this July.\"},\n  {'title': \"Media Get a Close-Up of NASA's Mars 2020 Rover\",\n   'content': \"The clean room at NASA's Jet Propulsion Laboratory was open to the media to see NASA's next Mars explorer before it leaves for Florida in preparation for a summertime launch.\"},\n  {'title': 'Space History Is Made in This NASA Robot Factory',\n   'content': \"From rockets to rovers, JPL's Spacecraft Assembly Facility has been at the center of robotic spaceflight. Here's a closer look at what makes it so special.\"},\n  {'title': \"NASA's Mars 2020 Rover Completes Its First Drive\",\n   'content': 'In a 10-plus-hour marathon, the rover steered, turned and drove in 3-foot (1-meter) increments over small ramps.'},\n  {'title': \"NASA's MAVEN Maps Winds in the Martian Upper Atmosphere that Mirror the Terrain Below and Gives Clues to Martian Climate\",\n   'content': 'Researchers have created the first map of wind circulation in the upper atmosphere of a planet besides Earth, using data from NASA’s MAVEN spacecraft that were collected during the last two years.'},\n  {'title': \"Newfound Martian Aurora Actually the Most Common; Sheds Light on Mars' Changing Climate\",\n   'content': 'A type of Martian aurora first identified by NASA’s MAVEN spacecraft in 2016 is actually the most common form of aurora occurring on the Red Planet, according to new results from the mission.'},\n  {'title': \"NASA's Treasure Map for Water Ice on Mars\",\n   'content': 'A new study identifies frozen water just below the Martian surface, where astronauts could easily dig it up.'}],\n 'feat_img': 'https://www.jpl.nasa.gov/spaceimages/images/largesize/PIA10181_hires.jpg',\n 'weather': 'InSight sol 527 (2020-05-20) low -93.0ºC (-135.5ºF) high 0.8ºC (33.4ºF)\\nwinds from the SW at 4.7 m/s (10.4 mph) gusting to 18.9 m/s (42.2 mph)\\npressure at 7.10 hPa',\n 'hem_imgs': [{'title': 'Cerberus Hemisphere',\n   'img_url': 'https://astropedia.astrogeology.usgs.gov/download/Mars/Viking/cerberus_enhanced.tif'},\n  {'title': 'Schiaparelli Hemisphere',\n   'img_url': 'https://astropedia.astrogeology.usgs.gov/download/Mars/Viking/schiaparelli_enhanced.tif'},\n  {'title': 'Syrtis Major Hemisphere',\n   'img_url': 'https://astropedia.astrogeology.usgs.gov/download/Mars/Viking/syrtis_major_enhanced.tif'},\n  {'title': 'Valles Marineris Hemisphere',\n   'img_url': 'https://astropedia.astrogeology.usgs.gov/download/Mars/Viking/valles_marineris_enhanced.tif'}]}"
     },
     "metadata": {},
     "execution_count": 42
    }
   ],
   "source": [
    "all_mars_data"
   ]
  }
 ],
 "metadata": {
  "kernelspec": {
   "display_name": "Python 3",
   "language": "python",
   "name": "python3"
  },
  "language_info": {
   "codemirror_mode": {
    "name": "ipython",
    "version": 3
   },
   "file_extension": ".py",
   "mimetype": "text/x-python",
   "name": "python",
   "nbconvert_exporter": "python",
   "pygments_lexer": "ipython3",
   "version": "3.7.4-final"
  }
 },
 "nbformat": 4,
 "nbformat_minor": 2
}